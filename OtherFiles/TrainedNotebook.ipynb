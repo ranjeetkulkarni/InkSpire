{
 "cells": [
  {
   "cell_type": "code",
   "execution_count": 81,
   "metadata": {
    "_cell_guid": "b1076dfc-b9ad-4769-8c92-a6c4dae69d19",
    "_uuid": "8f2839f25d086af736a60e9eeb907d3b93b6e0e5",
    "execution": {
     "iopub.execute_input": "2024-12-13T20:51:29.621299Z",
     "iopub.status.busy": "2024-12-13T20:51:29.620963Z",
     "iopub.status.idle": "2024-12-13T20:51:29.626078Z",
     "shell.execute_reply": "2024-12-13T20:51:29.625216Z",
     "shell.execute_reply.started": "2024-12-13T20:51:29.621268Z"
    },
    "trusted": true
   },
   "outputs": [],
   "source": [
    "import tensorflow as tf\n",
    "from tensorflow.keras import layers, models, optimizers\n",
    "from tensorflow.keras.applications import VGG16\n",
    "from tensorflow.keras.losses import BinaryCrossentropy\n",
    "from tensorflow.keras.optimizers import Adam\n",
    "import numpy as np\n",
    "import matplotlib.pyplot as plt\n",
    "import glob\n",
    "from PIL import Image"
   ]
  },
  {
   "cell_type": "code",
   "execution_count": null,
   "metadata": {
    "execution": {
     "iopub.execute_input": "2024-12-13T20:51:30.038136Z",
     "iopub.status.busy": "2024-12-13T20:51:30.037303Z",
     "iopub.status.idle": "2024-12-13T20:51:30.042597Z",
     "shell.execute_reply": "2024-12-13T20:51:30.041429Z",
     "shell.execute_reply.started": "2024-12-13T20:51:30.038098Z"
    },
    "trusted": true
   },
   "outputs": [],
   "source": [
    "# ============================\n",
    "# Device Setup\n",
    "# ============================\n",
    "if tf.config.list_physical_devices('GPU'):\n",
    "    print(\"CUDA is available. Using GPU.\")\n",
    "    device_name = \"/GPU:0\"\n",
    "else:\n",
    "    print(\"CUDA is not available. Using CPU.\")\n",
    "    device_name = \"/CPU:0\""
   ]
  },
  {
   "cell_type": "code",
   "execution_count": null,
   "metadata": {
    "execution": {
     "iopub.execute_input": "2024-12-13T20:51:30.552600Z",
     "iopub.status.busy": "2024-12-13T20:51:30.551968Z",
     "iopub.status.idle": "2024-12-13T20:51:31.442318Z",
     "shell.execute_reply": "2024-12-13T20:51:31.441495Z",
     "shell.execute_reply.started": "2024-12-13T20:51:30.552559Z"
    },
    "trusted": true
   },
   "outputs": [],
   "source": [
    "# ============================\n",
    "# Data Loading\n",
    "# ============================\n",
    "imgs_path = glob.glob('/kaggle/input/anime-sketch-colorization-pair/data/train/*.png')\n",
    "print(f\"Number of images: {len(imgs_path)}\")\n",
    "\n",
    "plt.figure(figsize=(12, 8))\n",
    "for i, img_path in enumerate(imgs_path[:4]):\n",
    "    img = Image.open(img_path).convert('RGB')\n",
    "    np_img = np.array(img)\n",
    "    plt.subplot(2, 2, i + 1)\n",
    "    plt.imshow(np_img)\n",
    "    plt.title(str(np_img.shape))\n",
    "plt.show()"
   ]
  },
  {
   "cell_type": "code",
   "execution_count": 84,
   "metadata": {
    "execution": {
     "iopub.execute_input": "2024-12-13T20:51:31.444580Z",
     "iopub.status.busy": "2024-12-13T20:51:31.444003Z",
     "iopub.status.idle": "2024-12-13T20:51:31.451108Z",
     "shell.execute_reply": "2024-12-13T20:51:31.450316Z",
     "shell.execute_reply.started": "2024-12-13T20:51:31.444540Z"
    },
    "trusted": true
   },
   "outputs": [],
   "source": [
    "# ============================\n",
    "# Data Preprocessing\n",
    "# ============================\n",
    "def preprocess_image(img_path):\n",
    "    img = Image.open(img_path).convert('RGB')\n",
    "    img = img.resize((512, 256))  # Resize to (512, 256)\n",
    "    img = np.array(img).astype(np.float32) / 255.0  # Normalize to [0, 1]\n",
    "    img = img * 2 - 1  # Scale to [-1, 1]\n",
    "    w = img.shape[1] // 2  # Split width\n",
    "\n",
    "    # Extract the sketch (right half) and color (left half)\n",
    "    color = img[:, :w]\n",
    "    sketch = img[:, w:]\n",
    "    # Convert sketch to grayscale\n",
    "    sketch = np.mean(sketch, axis=-1, keepdims=True)  # Convert to grayscale with shape (256, 256, 1)\n",
    "    return sketch, color"
   ]
  },
  {
   "cell_type": "code",
   "execution_count": 85,
   "metadata": {
    "execution": {
     "iopub.execute_input": "2024-12-13T20:51:31.466073Z",
     "iopub.status.busy": "2024-12-13T20:51:31.465235Z",
     "iopub.status.idle": "2024-12-13T20:51:31.471528Z",
     "shell.execute_reply": "2024-12-13T20:51:31.470709Z",
     "shell.execute_reply.started": "2024-12-13T20:51:31.466032Z"
    },
    "trusted": true
   },
   "outputs": [],
   "source": [
    "def data_generator(imgs_path, batch_size):\n",
    "    while True:\n",
    "        np.random.shuffle(imgs_path)\n",
    "        for i in range(0, len(imgs_path), batch_size):\n",
    "            batch_paths = imgs_path[i:i + batch_size]\n",
    "            batch_sketches, batch_colors = [], []\n",
    "            for path in batch_paths:\n",
    "                sketch, color = preprocess_image(path)\n",
    "                batch_sketches.append(sketch)\n",
    "                batch_colors.append(color)\n",
    "            yield np.array(batch_sketches), np.array(batch_colors)"
   ]
  },
  {
   "cell_type": "code",
   "execution_count": null,
   "metadata": {
    "execution": {
     "iopub.execute_input": "2024-12-13T20:51:31.809997Z",
     "iopub.status.busy": "2024-12-13T20:51:31.809644Z",
     "iopub.status.idle": "2024-12-13T20:51:56.420161Z",
     "shell.execute_reply": "2024-12-13T20:51:56.419378Z",
     "shell.execute_reply.started": "2024-12-13T20:51:31.809966Z"
    },
    "trusted": true
   },
   "outputs": [],
   "source": [
    "test = data_generator(imgs_path, 32)\n",
    "for step, (sketches, real_images) in enumerate(test):\n",
    "    if (step>19):\n",
    "        break\n",
    "    # Plot real vs fake images\n",
    "    plt.figure(figsize=(12, 6))\n",
    "    for i in range(4):\n",
    "        # Plot real images\n",
    "        plt.subplot(3, 4, i + 1)\n",
    "        plt.imshow((real_images[i] + 1) / 2)  # Denormalize\n",
    "        plt.title(\"Real Image\")\n",
    "        plt.axis('off')\n",
    "\n",
    "        # Plot input sketches\n",
    "        plt.subplot(3, 4, i + 9)\n",
    "        plt.imshow((sketches[i] + 1) / 2)  # Denormalize for RGB sketch\n",
    "        plt.title(\"Input Sketch\")\n",
    "        plt.axis('off')\n",
    "\n",
    "    plt.show()"
   ]
  },
  {
   "cell_type": "code",
   "execution_count": 87,
   "metadata": {
    "execution": {
     "iopub.execute_input": "2024-12-13T20:51:56.421957Z",
     "iopub.status.busy": "2024-12-13T20:51:56.421668Z",
     "iopub.status.idle": "2024-12-13T20:51:56.681269Z",
     "shell.execute_reply": "2024-12-13T20:51:56.680204Z",
     "shell.execute_reply.started": "2024-12-13T20:51:56.421929Z"
    },
    "trusted": true
   },
   "outputs": [],
   "source": [
    "# ============================\n",
    "# Model Architectures\n",
    "# ============================\n",
    "def build_generator(input_shape=(256, 256, 1)):\n",
    "    inputs = layers.Input(shape=input_shape)\n",
    "\n",
    "    # Encoder\n",
    "    def encoder_block(x, filters, use_batchnorm=True):\n",
    "        x = layers.Conv2D(filters, (4, 4), strides=2, padding=\"same\")(x)\n",
    "        if use_batchnorm:\n",
    "            x = layers.BatchNormalization()(x)\n",
    "        return layers.LeakyReLU()(x)\n",
    "\n",
    "    e1 = encoder_block(inputs, 64, use_batchnorm=False)\n",
    "    e2 = encoder_block(e1, 128)\n",
    "    e3 = encoder_block(e2, 256)\n",
    "    e4 = encoder_block(e3, 512)\n",
    "    e5 = encoder_block(e4, 512)\n",
    "\n",
    "    # Bottleneck\n",
    "    bottleneck = layers.Conv2D(512, (4, 4), strides=2, padding=\"same\", activation=\"relu\")(e5)\n",
    "\n",
    "    # Decoder\n",
    "    def decoder_block(x, skip_input, filters, dropout=False):\n",
    "        x = layers.Conv2DTranspose(filters, (4, 4), strides=2, padding=\"same\")(x)\n",
    "        x = layers.BatchNormalization()(x)\n",
    "        if dropout:\n",
    "            x = layers.Dropout(0.5)(x)\n",
    "        x = layers.ReLU()(x)\n",
    "        return layers.Concatenate()([x, skip_input])\n",
    "\n",
    "    d1 = decoder_block(bottleneck, e5, 512, dropout=True)\n",
    "    d2 = decoder_block(d1, e4, 512, dropout=True)\n",
    "    d3 = decoder_block(d2, e3, 256)\n",
    "    d4 = decoder_block(d3, e2, 128)\n",
    "    d5 = decoder_block(d4, e1, 64)\n",
    "\n",
    "    outputs = layers.Conv2DTranspose(3, (4, 4), strides=2, padding=\"same\", activation=\"tanh\")(d5)\n",
    "    return models.Model(inputs, outputs, name=\"Generator\")\n",
    "\n",
    "def build_discriminator(input_shape=(256, 256, 3)):\n",
    "    inputs = layers.Input(shape=input_shape)\n",
    "\n",
    "    def discriminator_block(x, filters, strides=2):\n",
    "        x = layers.Conv2D(filters, (4, 4), strides=strides, padding=\"same\")(x)\n",
    "        x = layers.BatchNormalization()(x)\n",
    "        return layers.LeakyReLU()(x)\n",
    "\n",
    "    x = discriminator_block(inputs, 64, strides=2)\n",
    "    x = discriminator_block(x, 128, strides=2)\n",
    "    x = discriminator_block(x, 256, strides=2)\n",
    "    x = discriminator_block(x, 512, strides=1)\n",
    "\n",
    "    outputs = layers.Conv2D(1, (4, 4), strides=1, padding=\"same\")(x)\n",
    "    return models.Model(inputs, outputs, name=\"Discriminator\")\n",
    "\n",
    "# Instantiate models\n",
    "generator = build_generator(input_shape=(256, 256, 1))\n",
    "discriminator = build_discriminator(input_shape=(256, 256, 4))  # Input includes sketch + color (concatenated)\n"
   ]
  },
  {
   "cell_type": "code",
   "execution_count": 88,
   "metadata": {
    "execution": {
     "iopub.execute_input": "2024-12-13T20:51:56.682869Z",
     "iopub.status.busy": "2024-12-13T20:51:56.682494Z",
     "iopub.status.idle": "2024-12-13T20:51:56.693779Z",
     "shell.execute_reply": "2024-12-13T20:51:56.692874Z",
     "shell.execute_reply.started": "2024-12-13T20:51:56.682830Z"
    },
    "trusted": true
   },
   "outputs": [],
   "source": [
    "# ============================\n",
    "# Losses and Optimizers\n",
    "# ============================\n",
    "cross_entropy = BinaryCrossentropy(from_logits=True)\n",
    "\n",
    "def generator_loss(disc_generated_output, gen_output, target):\n",
    "    target = tf.cast(target, tf.float32)\n",
    "    gen_output = tf.cast(gen_output, tf.float32)\n",
    "    gan_loss = cross_entropy(tf.ones_like(disc_generated_output), disc_generated_output)\n",
    "    l1_loss = tf.reduce_mean(tf.abs(target - gen_output))\n",
    "    return gan_loss + (100 * l1_loss)\n",
    "\n",
    "def discriminator_loss(disc_real_output, disc_generated_output):\n",
    "    real_loss = cross_entropy(tf.ones_like(disc_real_output), disc_real_output)\n",
    "    generated_loss = cross_entropy(tf.zeros_like(disc_generated_output), disc_generated_output)\n",
    "    return real_loss + generated_loss\n",
    "\n",
    "gen_optimizer = Adam(2e-4, beta_1=0.5)\n",
    "disc_optimizer = Adam(2e-4, beta_1=0.5)"
   ]
  },
  {
   "cell_type": "code",
   "execution_count": 89,
   "metadata": {
    "execution": {
     "iopub.execute_input": "2024-12-13T20:51:56.696199Z",
     "iopub.status.busy": "2024-12-13T20:51:56.695896Z",
     "iopub.status.idle": "2024-12-13T20:51:56.704128Z",
     "shell.execute_reply": "2024-12-13T20:51:56.703184Z",
     "shell.execute_reply.started": "2024-12-13T20:51:56.696152Z"
    },
    "trusted": true
   },
   "outputs": [],
   "source": [
    "# ============================\n",
    "# Training Step\n",
    "# ============================\n",
    "@tf.function\n",
    "def train_step(sketches, colors):\n",
    "    with tf.GradientTape() as gen_tape, tf.GradientTape() as disc_tape:\n",
    "        generated_colors = generator(sketches, training=True)\n",
    "        # Cast tensors to float32 to ensure consistency\n",
    "        sketches = tf.cast(sketches, tf.float32)\n",
    "        colors = tf.cast(colors, tf.float32)\n",
    "\n",
    "        real_input = tf.concat([sketches, colors], axis=-1)\n",
    "        generated_input = tf.concat([tf.cast(sketches, tf.float32), tf.cast(generated_colors, tf.float32)], axis=-1)\n",
    "\n",
    "\n",
    "        disc_real_output = discriminator(real_input, training=True)\n",
    "        disc_generated_output = discriminator(generated_input, training=True)\n",
    "\n",
    "        gen_loss = generator_loss(disc_generated_output, generated_colors, colors)\n",
    "        disc_loss = discriminator_loss(disc_real_output, disc_generated_output)\n",
    "\n",
    "    gen_gradients = gen_tape.gradient(gen_loss, generator.trainable_variables)\n",
    "    disc_gradients = disc_tape.gradient(disc_loss, discriminator.trainable_variables)\n",
    "\n",
    "    gen_optimizer.apply_gradients(zip(gen_gradients, generator.trainable_variables))\n",
    "    disc_optimizer.apply_gradients(zip(disc_gradients, discriminator.trainable_variables))\n",
    "\n",
    "    return gen_loss, disc_loss"
   ]
  },
  {
   "cell_type": "code",
   "execution_count": 97,
   "metadata": {
    "execution": {
     "iopub.execute_input": "2024-12-13T20:53:13.229067Z",
     "iopub.status.busy": "2024-12-13T20:53:13.228684Z",
     "iopub.status.idle": "2024-12-13T20:53:13.235762Z",
     "shell.execute_reply": "2024-12-13T20:53:13.234899Z",
     "shell.execute_reply.started": "2024-12-13T20:53:13.229035Z"
    },
    "trusted": true
   },
   "outputs": [],
   "source": [
    "def train(data_generator, steps_per_epoch, epochs):\n",
    "    best_gen_loss = float('inf')  # Initialize with a very high value for comparison\n",
    "    best_disc_loss = float('inf')  # Track the best discriminator loss (optional)\n",
    "    \n",
    "    for epoch in range(epochs):\n",
    "        print(f\"Epoch {epoch + 1}/{epochs}\")\n",
    "        \n",
    "        for step in range(steps_per_epoch):\n",
    "            sketches, colors = next(data_generator)\n",
    "            gen_loss, disc_loss = train_step(sketches, colors)\n",
    "            print(f\"Step {step + 1}/{steps_per_epoch}: Gen Loss: {gen_loss.numpy():.4f}, Disc Loss: {disc_loss.numpy():.4f}\")\n",
    "            \n",
    "            # Plot after each step\n",
    "            # plot_images(sketches, colors)\n",
    "\n",
    "            # Check if the current generator loss is the best one\n",
    "            if gen_loss < best_gen_loss:\n",
    "                best_gen_loss = gen_loss\n",
    "                # Save the generator model if it improves\n",
    "                generator.save(f'best_generator.h5')\n",
    "                print(f\"Best Generator model saved as best_generator_epoch_{epoch+1}.h5\")\n",
    "\n",
    "            # Optional: Save the discriminator model if needed\n",
    "            if disc_loss < best_disc_loss:\n",
    "                best_disc_loss = disc_loss\n",
    "                discriminator.save(f'best_discriminator.h5')\n",
    "                print(f\"Best Discriminator model saved as best_discriminator_epoch_{epoch+1}.h5\")\n",
    "\n",
    "        # Plot and save after each epoch\n",
    "        plot_images(sketches, colors, is_epoch_end=True)\n",
    "\n",
    "        # Optionally, you can also save the best model at the end of the epoch\n",
    "        # based on the loss improvement, but the condition above ensures that we only\n",
    "        # save the model if there is an improvement during the training process.\n",
    "\n"
   ]
  },
  {
   "cell_type": "code",
   "execution_count": 98,
   "metadata": {
    "execution": {
     "iopub.execute_input": "2024-12-13T20:53:13.838284Z",
     "iopub.status.busy": "2024-12-13T20:53:13.837935Z",
     "iopub.status.idle": "2024-12-13T20:53:13.845756Z",
     "shell.execute_reply": "2024-12-13T20:53:13.844782Z",
     "shell.execute_reply.started": "2024-12-13T20:53:13.838253Z"
    },
    "trusted": true
   },
   "outputs": [],
   "source": [
    "def plot_images(sketches, colors, is_epoch_end=False):\n",
    "    sample_sketch = sketches[:4]  # Use the same batch of sketches from the current training step\n",
    "    sample_real_images = colors[:4]  # Use the same batch of real images\n",
    "    sample_output = generator(sample_sketch, training=False)  # Generate fake images\n",
    "\n",
    "    # Cast to float32 before plotting\n",
    "    sample_real_images = tf.cast(sample_real_images, tf.float32)\n",
    "    sample_output = tf.cast(sample_output, tf.float32)\n",
    "    sample_sketch = tf.cast(sample_sketch, tf.float32)\n",
    "\n",
    "    # Plot real vs fake images\n",
    "    plt.figure(figsize=(18, 12))\n",
    "    for i in range(4):\n",
    "        # Plot real images\n",
    "        plt.subplot(3, 4, i + 1)\n",
    "        plt.imshow((sample_real_images[i] + 1) / 2)  # Denormalize\n",
    "        plt.title(\"Real Image\")\n",
    "        plt.axis('off')\n",
    "\n",
    "        # Plot fake images\n",
    "        plt.subplot(3, 4, i + 5)\n",
    "        plt.imshow((sample_output[i] + 1) / 2)  # Denormalize\n",
    "        plt.title(\"Generated Image\")\n",
    "        plt.axis('off')\n",
    "\n",
    "        # Plot input sketches\n",
    "        plt.subplot(3, 4, i + 9)\n",
    "        plt.imshow((sample_sketch[i] + 1) / 2)  # Denormalize for RGB sketch\n",
    "        plt.title(\"Input Sketch\")\n",
    "        plt.axis('off')\n",
    "\n",
    "    # Show the plot after every step and at the end of the epoch\n",
    "    if is_epoch_end:\n",
    "        plt.suptitle(f\"Epoch End: Generated vs Real vs Sketches\", fontsize=16)\n",
    "    plt.show()\n",
    "    plt.close()"
   ]
  },
  {
   "cell_type": "code",
   "execution_count": 99,
   "metadata": {
    "execution": {
     "iopub.execute_input": "2024-12-13T20:53:14.486270Z",
     "iopub.status.busy": "2024-12-13T20:53:14.485561Z",
     "iopub.status.idle": "2024-12-13T20:53:14.490436Z",
     "shell.execute_reply": "2024-12-13T20:53:14.489385Z",
     "shell.execute_reply.started": "2024-12-13T20:53:14.486232Z"
    },
    "trusted": true
   },
   "outputs": [],
   "source": [
    "batch_size = 32\n",
    "train_gen = data_generator(imgs_path, batch_size)\n",
    "steps_per_epoch = len(imgs_path) // batch_size\n",
    "epochs = 50\n"
   ]
  },
  {
   "cell_type": "code",
   "execution_count": null,
   "metadata": {
    "execution": {
     "iopub.execute_input": "2024-12-13T20:53:15.480116Z",
     "iopub.status.busy": "2024-12-13T20:53:15.479468Z",
     "iopub.status.idle": "2024-12-13T23:48:31.778039Z",
     "shell.execute_reply": "2024-12-13T23:48:31.776553Z",
     "shell.execute_reply.started": "2024-12-13T20:53:15.480079Z"
    },
    "trusted": true
   },
   "outputs": [],
   "source": [
    "train(train_gen, steps_per_epoch, epochs)"
   ]
  },
  {
   "cell_type": "code",
   "execution_count": 101,
   "metadata": {
    "execution": {
     "iopub.execute_input": "2024-12-13T23:48:38.543428Z",
     "iopub.status.busy": "2024-12-13T23:48:38.543083Z",
     "iopub.status.idle": "2024-12-13T23:48:38.764499Z",
     "shell.execute_reply": "2024-12-13T23:48:38.763776Z",
     "shell.execute_reply.started": "2024-12-13T23:48:38.543399Z"
    },
    "trusted": true
   },
   "outputs": [],
   "source": [
    "generator.save(f'last_generator.h5')"
   ]
  }
 ],
 "metadata": {
  "kaggle": {
   "accelerator": "nvidiaTeslaT4",
   "dataSources": [
    {
     "datasetId": 91717,
     "sourceId": 212894,
     "sourceType": "datasetVersion"
    }
   ],
   "dockerImageVersionId": 30805,
   "isGpuEnabled": true,
   "isInternetEnabled": true,
   "language": "python",
   "sourceType": "notebook"
  },
  "kernelspec": {
   "display_name": "Python 3",
   "language": "python",
   "name": "python3"
  },
  "language_info": {
   "codemirror_mode": {
    "name": "ipython",
    "version": 3
   },
   "file_extension": ".py",
   "mimetype": "text/x-python",
   "name": "python",
   "nbconvert_exporter": "python",
   "pygments_lexer": "ipython3",
   "version": "3.10.14"
  }
 },
 "nbformat": 4,
 "nbformat_minor": 4
}
